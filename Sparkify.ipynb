{
 "cells": [
  {
   "cell_type": "markdown",
   "metadata": {},
   "source": [
    "# Sparkify Project Workspace\n",
    "This workspace contains a tiny subset (128MB) of the full dataset available (12GB). Feel free to use this workspace to build your project, or to explore a smaller subset with Spark before deploying your cluster on the cloud. Instructions for setting up your Spark cluster is included in the last lesson of the Extracurricular Spark Course content.\n",
    "\n",
    "You can follow the steps below to guide your data analysis and model building portion of this project."
   ]
  },
  {
   "cell_type": "code",
   "execution_count": 2,
   "metadata": {},
   "outputs": [],
   "source": [
    "# import libraries\n",
    "# import libraries\n",
    "# import libraries\n",
    "from pyspark.sql import SparkSession, Window\n",
    "from pyspark.sql.functions import avg, stddev, split, udf, isnull, first, col, format_number, rand, countDistinct\n",
    "from pyspark.sql.functions import min as fmin\n",
    "from pyspark.sql.functions import max as fmax\n",
    "from pyspark.sql.types import IntegerType, FloatType\n",
    "\n",
    "from pyspark.ml import Pipeline\n",
    "from pyspark.ml.classification import LogisticRegression, DecisionTreeClassifier,RandomForestClassifier, LinearSVC\n",
    "from pyspark.ml.feature import StandardScaler, VectorAssembler,StringIndexer\n",
    "from pyspark.ml.evaluation import MulticlassClassificationEvaluator\n",
    "from pyspark.mllib.evaluation import MulticlassMetrics\n",
    "from pyspark.ml.tuning import CrossValidator, ParamGridBuilder\n",
    "\n",
    "import re\n",
    "import copy\n",
    "import time\n",
    "import datetime\n",
    "import numpy as np\n",
    "import pandas as pd\n",
    "import seaborn as sns\n",
    "import matplotlib.pyplot as plt\n",
    "from statsmodels.stats.proportion import proportions_ztest"
   ]
  },
  {
   "cell_type": "code",
   "execution_count": 3,
   "metadata": {},
   "outputs": [],
   "source": [
    "# create a Spark session\n",
    "spark = SparkSession.builder.appName('Sparkify_capstone').getOrCreate()"
   ]
  },
  {
   "cell_type": "markdown",
   "metadata": {},
   "source": [
    "# Load and Clean Dataset\n",
    "In this workspace, the mini-dataset file is `mini_sparkify_event_data.json`. Load and clean the dataset, checking for invalid or missing data - for example, records without userids or sessionids. "
   ]
  },
  {
   "cell_type": "code",
   "execution_count": 4,
   "metadata": {},
   "outputs": [
    {
     "name": "stdout",
     "output_type": "stream",
     "text": [
      "+--------------+---------+---------+------+-------------+--------+---------+-----+---------------+------+--------+-------------+---------+---------+------+-------------+--------------------+------+\n",
      "|        artist|     auth|firstName|gender|itemInSession|lastName|   length|level|       location|method|    page| registration|sessionId|     song|status|           ts|           userAgent|userId|\n",
      "+--------------+---------+---------+------+-------------+--------+---------+-----+---------------+------+--------+-------------+---------+---------+------+-------------+--------------------+------+\n",
      "|Martha Tilston|Logged In|    Colin|     M|           50| Freeman|277.89016| paid|Bakersfield, CA|   PUT|NextSong|1538173362000|       29|Rockpools|   200|1538352117000|Mozilla/5.0 (Wind...|    30|\n",
      "+--------------+---------+---------+------+-------------+--------+---------+-----+---------------+------+--------+-------------+---------+---------+------+-------------+--------------------+------+\n",
      "only showing top 1 row\n",
      "\n"
     ]
    }
   ],
   "source": [
    "df = spark.read.json('mini_sparkify_event_data.json')\n",
    "df.show(1)"
   ]
  },
  {
   "cell_type": "code",
   "execution_count": 5,
   "metadata": {},
   "outputs": [
    {
     "name": "stdout",
     "output_type": "stream",
     "text": [
      "root\n",
      " |-- artist: string (nullable = true)\n",
      " |-- auth: string (nullable = true)\n",
      " |-- firstName: string (nullable = true)\n",
      " |-- gender: string (nullable = true)\n",
      " |-- itemInSession: long (nullable = true)\n",
      " |-- lastName: string (nullable = true)\n",
      " |-- length: double (nullable = true)\n",
      " |-- level: string (nullable = true)\n",
      " |-- location: string (nullable = true)\n",
      " |-- method: string (nullable = true)\n",
      " |-- page: string (nullable = true)\n",
      " |-- registration: long (nullable = true)\n",
      " |-- sessionId: long (nullable = true)\n",
      " |-- song: string (nullable = true)\n",
      " |-- status: long (nullable = true)\n",
      " |-- ts: long (nullable = true)\n",
      " |-- userAgent: string (nullable = true)\n",
      " |-- userId: string (nullable = true)\n",
      "\n"
     ]
    }
   ],
   "source": [
    "df.printSchema()"
   ]
  },
  {
   "cell_type": "code",
   "execution_count": 6,
   "metadata": {},
   "outputs": [
    {
     "data": {
      "text/plain": [
       "286500"
      ]
     },
     "execution_count": 6,
     "metadata": {},
     "output_type": "execute_result"
    }
   ],
   "source": [
    "df.count()"
   ]
  },
  {
   "cell_type": "code",
   "execution_count": 7,
   "metadata": {},
   "outputs": [
    {
     "name": "stdout",
     "output_type": "stream",
     "text": [
      "+-------+------------------+\n",
      "|summary|            userId|\n",
      "+-------+------------------+\n",
      "|  count|            286500|\n",
      "|   mean| 59682.02278593872|\n",
      "| stddev|109091.94999910535|\n",
      "|    min|                  |\n",
      "|    max|                99|\n",
      "+-------+------------------+\n",
      "\n"
     ]
    }
   ],
   "source": [
    "df.describe('userId').show()"
   ]
  },
  {
   "cell_type": "markdown",
   "metadata": {},
   "source": [
    "seems userId has null value"
   ]
  },
  {
   "cell_type": "code",
   "execution_count": 8,
   "metadata": {},
   "outputs": [
    {
     "name": "stdout",
     "output_type": "stream",
     "text": [
      "+-------+-----------------+\n",
      "|summary|        sessionId|\n",
      "+-------+-----------------+\n",
      "|  count|           286500|\n",
      "|   mean|1041.526554973822|\n",
      "| stddev|726.7762634630799|\n",
      "|    min|                1|\n",
      "|    max|             2474|\n",
      "+-------+-----------------+\n",
      "\n"
     ]
    }
   ],
   "source": [
    "df.describe('sessionId').show()"
   ]
  },
  {
   "cell_type": "markdown",
   "metadata": {},
   "source": [
    "## Clean"
   ]
  },
  {
   "cell_type": "code",
   "execution_count": 9,
   "metadata": {},
   "outputs": [
    {
     "data": {
      "text/plain": [
       "278154"
      ]
     },
     "execution_count": 9,
     "metadata": {},
     "output_type": "execute_result"
    }
   ],
   "source": [
    "# clean null and ' ' values\n",
    "df_clean = df.dropna(how = \"any\", subset = [\"userId\", \"sessionId\"])\n",
    "df_clean = df_clean.filter(df_clean[\"userId\"] != \"\")\n",
    "df_clean.count()"
   ]
  },
  {
   "cell_type": "markdown",
   "metadata": {},
   "source": [
    "# Exploratory Data Analysis\n",
    "When you're working with the full dataset, perform EDA by loading a small subset of the data and doing basic manipulations within Spark. In this workspace, you are already provided a small subset of data you can explore.\n",
    "\n",
    "### Define Churn\n",
    "\n",
    "Once you've done some preliminary analysis, create a column `Churn` to use as the label for your model. I suggest using the `Cancellation Confirmation` events to define your churn, which happen for both paid and free users. As a bonus task, you can also look into the `Downgrade` events.\n",
    "\n",
    "### Explore Data\n",
    "Once you've defined churn, perform some exploratory data analysis to observe the behavior for users who stayed vs users who churned. You can start by exploring aggregates on these two groups of users, observing how much of a specific action they experienced per a certain time unit or number of songs played."
   ]
  },
  {
   "cell_type": "code",
   "execution_count": 10,
   "metadata": {},
   "outputs": [
    {
     "name": "stdout",
     "output_type": "stream",
     "text": [
      "+---------+-------------------+\n",
      "|     auth|distinct_user_count|\n",
      "+---------+-------------------+\n",
      "|Cancelled|                 52|\n",
      "|Logged In|                225|\n",
      "+---------+-------------------+\n",
      "\n"
     ]
    }
   ],
   "source": [
    "df_clean.groupby(\"auth\").agg(countDistinct(\"userId\").alias(\"distinct_user_count\")).show()"
   ]
  },
  {
   "cell_type": "code",
   "execution_count": 11,
   "metadata": {},
   "outputs": [],
   "source": [
    "# the dataset is inbalanced"
   ]
  },
  {
   "cell_type": "code",
   "execution_count": 12,
   "metadata": {},
   "outputs": [],
   "source": [
    "# indicate the churn users\n",
    "df_churn = df_clean.filter(df_clean.auth==\"Cancelled\").select(\"userId\").dropDuplicates()\n",
    "churn_user_list = df_churn.select('userId').distinct().rdd.flatMap(lambda x: x).collect()"
   ]
  },
  {
   "cell_type": "code",
   "execution_count": 13,
   "metadata": {},
   "outputs": [
    {
     "data": {
      "text/plain": [
       "[Row(artist='Martha Tilston', auth='Logged In', firstName='Colin', gender='M', itemInSession=50, lastName='Freeman', length=277.89016, level='paid', location='Bakersfield, CA', method='PUT', page='NextSong', registration=1538173362000, sessionId=29, song='Rockpools', status=200, ts=1538352117000, userAgent='Mozilla/5.0 (Windows NT 6.1; WOW64; rv:31.0) Gecko/20100101 Firefox/31.0', userId='30', churn=False)]"
      ]
     },
     "execution_count": 13,
     "metadata": {},
     "output_type": "execute_result"
    }
   ],
   "source": [
    "# add the indicator\n",
    "df_indicate = df_clean.withColumn(\"churn\", df_clean.userId.isin(churn_user_list))\n",
    "df_indicate.take(1)"
   ]
  },
  {
   "cell_type": "code",
   "execution_count": 14,
   "metadata": {},
   "outputs": [
    {
     "data": {
      "text/plain": [
       "[Row(churn=True, count=52), Row(churn=False, count=173)]"
      ]
     },
     "execution_count": 14,
     "metadata": {},
     "output_type": "execute_result"
    }
   ],
   "source": [
    "df_indicate.dropDuplicates(['userId']).select('churn').groupby('churn').count().collect()"
   ]
  },
  {
   "cell_type": "markdown",
   "metadata": {},
   "source": [
    "# Feature Engineering\n",
    "Once you've familiarized yourself with the data, build out the features you find promising to train your model on. To work with the full dataset, you can follow the following steps.\n",
    "- Write a script to extract the necessary features from the smaller subset of data\n",
    "- Ensure that your script is scalable, using the best practices discussed in Lesson 3\n",
    "- Try your script on the full data set, debugging your script if necessary\n",
    "\n",
    "If you are working in the classroom workspace, you can just extract features based on the small subset of data contained here. Be sure to transfer over this work to the larger dataset when you work on your Spark cluster."
   ]
  },
  {
   "cell_type": "markdown",
   "metadata": {},
   "source": [
    "## Gender"
   ]
  },
  {
   "cell_type": "code",
   "execution_count": 15,
   "metadata": {},
   "outputs": [
    {
     "name": "stdout",
     "output_type": "stream",
     "text": [
      "+-----+------+-----+\n",
      "|churn|gender|count|\n",
      "+-----+------+-----+\n",
      "|false|     M|   89|\n",
      "|false|     F|   84|\n",
      "| true|     F|   20|\n",
      "| true|     M|   32|\n",
      "+-----+------+-----+\n",
      "\n"
     ]
    }
   ],
   "source": [
    "df_indicate.dropDuplicates([\"userId\", \"gender\"]).groupby([\"churn\", \"gender\"]).count().sort(\"churn\").show()"
   ]
  },
  {
   "cell_type": "code",
   "execution_count": 16,
   "metadata": {},
   "outputs": [
    {
     "name": "stdout",
     "output_type": "stream",
     "text": [
      "Z-statistic: 1.28009744097\n",
      "P-value: 0.200510868556\n"
     ]
    }
   ],
   "source": [
    "# Number of successes (positive outcomes) in each group\n",
    "# Total number of observations (trials) in each group\n",
    "count = [32,20]\n",
    "nobs = [32+89,20+84]\n",
    "\n",
    "stat, pval = proportions_ztest(count, nobs)\n",
    "\n",
    "# Print the results\n",
    "print(\"Z-statistic:\", stat)\n",
    "print(\"P-value:\", pval)"
   ]
  },
  {
   "cell_type": "markdown",
   "metadata": {},
   "source": [
    "the p-value is more than the significance level, we cannot reject the null hypothesis and therefore we cannot say there is a significant difference in proportions between the groups.--basically, no significant difference"
   ]
  },
  {
   "cell_type": "markdown",
   "metadata": {},
   "source": [
    "## Level"
   ]
  },
  {
   "cell_type": "code",
   "execution_count": 17,
   "metadata": {},
   "outputs": [
    {
     "name": "stdout",
     "output_type": "stream",
     "text": [
      "+-----+-----+-----+\n",
      "|churn|level|count|\n",
      "+-----+-----+-----+\n",
      "|false| paid|   40|\n",
      "|false| free|  133|\n",
      "| true| paid|    8|\n",
      "| true| free|   44|\n",
      "+-----+-----+-----+\n",
      "\n"
     ]
    }
   ],
   "source": [
    "df_indicate.dropDuplicates([\"userId\"]).groupby([\"churn\", \"level\"]).count().sort(\"churn\").show()"
   ]
  },
  {
   "cell_type": "code",
   "execution_count": 18,
   "metadata": {},
   "outputs": [
    {
     "name": "stdout",
     "output_type": "stream",
     "text": [
      "Z-statistic: 1.19417650796\n",
      "P-value: 0.232408930456\n"
     ]
    }
   ],
   "source": [
    "# Number of successes (positive outcomes) in each group\n",
    "# Total number of observations (trials) in each group\n",
    "count = [44,8]\n",
    "nobs = [44+133,8+40]\n",
    "\n",
    "stat, pval = proportions_ztest(count, nobs)\n",
    "\n",
    "# Print the results\n",
    "print(\"Z-statistic:\", stat)\n",
    "print(\"P-value:\", pval)"
   ]
  },
  {
   "cell_type": "markdown",
   "metadata": {},
   "source": [
    "the p-value is more than the significance level, we cannot reject the null hypothesis and therefore we cannot say there is a significant difference in proportions between the groups.--basically, no significant difference"
   ]
  },
  {
   "cell_type": "markdown",
   "metadata": {},
   "source": [
    "## State"
   ]
  },
  {
   "cell_type": "code",
   "execution_count": 19,
   "metadata": {},
   "outputs": [],
   "source": [
    "split_city_state = split(df_indicate['location'], ',')\n",
    "df_indicate = df_indicate.withColumn('city',split_city_state.getItem(0))\n",
    "df_indicate = df_indicate.withColumn('state',split_city_state.getItem(1))"
   ]
  },
  {
   "cell_type": "code",
   "execution_count": 20,
   "metadata": {},
   "outputs": [
    {
     "data": {
      "text/html": [
       "<div>\n",
       "<style scoped>\n",
       "    .dataframe tbody tr th:only-of-type {\n",
       "        vertical-align: middle;\n",
       "    }\n",
       "\n",
       "    .dataframe tbody tr th {\n",
       "        vertical-align: top;\n",
       "    }\n",
       "\n",
       "    .dataframe thead th {\n",
       "        text-align: right;\n",
       "    }\n",
       "</style>\n",
       "<table border=\"1\" class=\"dataframe\">\n",
       "  <thead>\n",
       "    <tr style=\"text-align: right;\">\n",
       "      <th></th>\n",
       "      <th>state</th>\n",
       "      <th>churn</th>\n",
       "      <th>count</th>\n",
       "    </tr>\n",
       "  </thead>\n",
       "  <tbody>\n",
       "    <tr>\n",
       "      <th>0</th>\n",
       "      <td>AK</td>\n",
       "      <td>False</td>\n",
       "      <td>2</td>\n",
       "    </tr>\n",
       "    <tr>\n",
       "      <th>1</th>\n",
       "      <td>AL</td>\n",
       "      <td>False</td>\n",
       "      <td>2</td>\n",
       "    </tr>\n",
       "    <tr>\n",
       "      <th>2</th>\n",
       "      <td>AL</td>\n",
       "      <td>True</td>\n",
       "      <td>2</td>\n",
       "    </tr>\n",
       "    <tr>\n",
       "      <th>3</th>\n",
       "      <td>AR</td>\n",
       "      <td>True</td>\n",
       "      <td>1</td>\n",
       "    </tr>\n",
       "    <tr>\n",
       "      <th>4</th>\n",
       "      <td>AZ</td>\n",
       "      <td>False</td>\n",
       "      <td>5</td>\n",
       "    </tr>\n",
       "  </tbody>\n",
       "</table>\n",
       "</div>"
      ],
      "text/plain": [
       "  state  churn  count\n",
       "0    AK  False      2\n",
       "1    AL  False      2\n",
       "2    AL   True      2\n",
       "3    AR   True      1\n",
       "4    AZ  False      5"
      ]
     },
     "execution_count": 20,
     "metadata": {},
     "output_type": "execute_result"
    }
   ],
   "source": [
    "by_state = df_indicate.dropDuplicates([\"userId\"]).groupby([\"state\",\"churn\"]).count().sort(\"state\").toPandas()\n",
    "by_state.head()"
   ]
  },
  {
   "cell_type": "code",
   "execution_count": 21,
   "metadata": {},
   "outputs": [
    {
     "data": {
      "image/png": "[encoded data removed]",
      "text/plain": [
       "<matplotlib.figure.Figure at 0x7f453edb07b8>"
      ]
     },
     "metadata": {
      "needs_background": "light"
     },
     "output_type": "display_data"
    }
   ],
   "source": [
    "fig, ax = plt.subplots(figsize=(10,15))\n",
    "sns.barplot( x=\"count\",y=\"state\", hue=\"churn\", data=by_state,ax=ax);"
   ]
  },
  {
   "cell_type": "markdown",
   "metadata": {},
   "source": [
    "Though there is some differences, there is no any clear trend"
   ]
  },
  {
   "cell_type": "markdown",
   "metadata": {},
   "source": [
    "## Actions"
   ]
  },
  {
   "cell_type": "code",
   "execution_count": 22,
   "metadata": {},
   "outputs": [
    {
     "name": "stdout",
     "output_type": "stream",
     "text": [
      "+-----+--------------------+------+\n",
      "|churn|                page| count|\n",
      "+-----+--------------------+------+\n",
      "| true|               About|    56|\n",
      "|false|               About|   439|\n",
      "|false|          Add Friend|  3641|\n",
      "| true|          Add Friend|   636|\n",
      "| true|     Add to Playlist|  1038|\n",
      "|false|     Add to Playlist|  5488|\n",
      "| true|              Cancel|    52|\n",
      "| true|Cancellation Conf...|    52|\n",
      "| true|           Downgrade|   337|\n",
      "|false|           Downgrade|  1718|\n",
      "| true|               Error|    32|\n",
      "|false|               Error|   220|\n",
      "|false|                Help|  1215|\n",
      "| true|                Help|   239|\n",
      "| true|                Home|  1672|\n",
      "|false|                Home|  8410|\n",
      "|false|              Logout|  2673|\n",
      "| true|              Logout|   553|\n",
      "|false|            NextSong|191714|\n",
      "| true|            NextSong| 36394|\n",
      "+-----+--------------------+------+\n",
      "only showing top 20 rows\n",
      "\n"
     ]
    }
   ],
   "source": [
    "df_indicate.select([\"churn\", \"page\"]).groupby([\"churn\", \"page\"]).count().sort(\"page\").show()"
   ]
  },
  {
   "cell_type": "code",
   "execution_count": 23,
   "metadata": {},
   "outputs": [
    {
     "data": {
      "text/html": [
       "<div>\n",
       "<style scoped>\n",
       "    .dataframe tbody tr th:only-of-type {\n",
       "        vertical-align: middle;\n",
       "    }\n",
       "\n",
       "    .dataframe tbody tr th {\n",
       "        vertical-align: top;\n",
       "    }\n",
       "\n",
       "    .dataframe thead th {\n",
       "        text-align: right;\n",
       "    }\n",
       "</style>\n",
       "<table border=\"1\" class=\"dataframe\">\n",
       "  <thead>\n",
       "    <tr style=\"text-align: right;\">\n",
       "      <th></th>\n",
       "      <th>page</th>\n",
       "      <th>churn</th>\n",
       "      <th>count</th>\n",
       "    </tr>\n",
       "  </thead>\n",
       "  <tbody>\n",
       "    <tr>\n",
       "      <th>0</th>\n",
       "      <td>About</td>\n",
       "      <td>True</td>\n",
       "      <td>56</td>\n",
       "    </tr>\n",
       "    <tr>\n",
       "      <th>1</th>\n",
       "      <td>About</td>\n",
       "      <td>False</td>\n",
       "      <td>439</td>\n",
       "    </tr>\n",
       "    <tr>\n",
       "      <th>2</th>\n",
       "      <td>Add Friend</td>\n",
       "      <td>True</td>\n",
       "      <td>636</td>\n",
       "    </tr>\n",
       "    <tr>\n",
       "      <th>3</th>\n",
       "      <td>Add Friend</td>\n",
       "      <td>False</td>\n",
       "      <td>3641</td>\n",
       "    </tr>\n",
       "    <tr>\n",
       "      <th>4</th>\n",
       "      <td>Add to Playlist</td>\n",
       "      <td>True</td>\n",
       "      <td>1038</td>\n",
       "    </tr>\n",
       "  </tbody>\n",
       "</table>\n",
       "</div>"
      ],
      "text/plain": [
       "              page  churn  count\n",
       "0            About   True     56\n",
       "1            About  False    439\n",
       "2       Add Friend   True    636\n",
       "3       Add Friend  False   3641\n",
       "4  Add to Playlist   True   1038"
      ]
     },
     "execution_count": 23,
     "metadata": {},
     "output_type": "execute_result"
    }
   ],
   "source": [
    "by_page = df_indicate.select([\"page\",\"churn\"]).groupby([ \"page\",\"churn\"]).count().sort(\"page\").toPandas()\n",
    "by_page.head()"
   ]
  },
  {
   "cell_type": "code",
   "execution_count": 24,
   "metadata": {},
   "outputs": [
    {
     "data": {
      "image/png": "[encoded data removed]",
      "text/plain": [
       "<matplotlib.figure.Figure at 0x7f453ec581d0>"
      ]
     },
     "metadata": {
      "needs_background": "light"
     },
     "output_type": "display_data"
    }
   ],
   "source": [
    "fig, ax = plt.subplots(figsize=(8,8))\n",
    "sns.barplot( x=\"count\",y=\"page\", hue=\"churn\", data=by_page,ax=ax);"
   ]
  },
  {
   "cell_type": "markdown",
   "metadata": {},
   "source": [
    "Add Friend, Add to Playlist, Downgrade, Home, NextSong, Roll Advert, Thumbs Down,a nd Thumbs Up seem to have significant differences for the churn.  Home may be not useful. Add to Playlist and NextSong may both related to how many songs a user listened.  Thumbs Down and Thumbs Up seem cannot replace each other.  We may use all these: NextSong,ThumbsUp, ThumbsDown, AddtoPlaylist, AddFriend, RollAdvert.  Or, if we could count the number of unique songs and total songs of users, we may not need NextSong."
   ]
  },
  {
   "cell_type": "markdown",
   "metadata": {},
   "source": [
    "## Put things together"
   ]
  },
  {
   "cell_type": "code",
   "execution_count": 25,
   "metadata": {},
   "outputs": [
    {
     "data": {
      "text/plain": [
       "DataFrame[artist: string, auth: string, firstName: string, gender: string, itemInSession: bigint, lastName: string, length: double, level: string, location: string, method: string, page: string, registration: bigint, sessionId: bigint, song: string, status: bigint, ts: bigint, userAgent: string, userId: string, churn: boolean, city: string, state: string]"
      ]
     },
     "execution_count": 25,
     "metadata": {},
     "output_type": "execute_result"
    }
   ],
   "source": [
    "df_indicate"
   ]
  },
  {
   "cell_type": "code",
   "execution_count": 26,
   "metadata": {},
   "outputs": [],
   "source": [
    "def get_numerical_metrics():\n",
    "    '''\n",
    "    join all numerical features together and implement Standscaler\n",
    "    '''\n",
    "    #page\n",
    "    page_count = df_indicate.select([\"userId\",\"page\"]).groupby([\"userId\",\"page\"]).count()\n",
    "    # create the pivot table\n",
    "    page_pv = page_count.groupby('userId').pivot('page').agg(first('count')).fillna(0)\n",
    "    # filter columns\n",
    "    page_pv = page_pv.select(['userId','Thumbs Up', 'Thumbs Down', 'Add to Playlist', 'Add Friend', 'Roll Advert'])  \n",
    "    \n",
    "    #total songs number\n",
    "    feature_ct_song = df_indicate.filter(df_indicate.page=='NextSong').select([\"userId\",\"song\"]).\\\n",
    "                                             groupby([\"userId\"]).count()\n",
    "\n",
    "    feature_ct_song = feature_ct_song.selectExpr(\"userId as userId\",\"count as ct_song\")\n",
    "    \n",
    "    #merge together\n",
    "    result = page_pv.join(feature_ct_song,on='userId',how='inner')\n",
    "    \n",
    "    return result"
   ]
  },
  {
   "cell_type": "code",
   "execution_count": 27,
   "metadata": {},
   "outputs": [
    {
     "data": {
      "text/plain": [
       "DataFrame[userId: string, Thumbs Up: bigint, Thumbs Down: bigint, Add to Playlist: bigint, Add Friend: bigint, Roll Advert: bigint, ct_song: bigint]"
      ]
     },
     "execution_count": 27,
     "metadata": {},
     "output_type": "execute_result"
    }
   ],
   "source": [
    "numerical_feature = get_numerical_metrics()\n",
    "numerical_feature"
   ]
  },
  {
   "cell_type": "code",
   "execution_count": 28,
   "metadata": {},
   "outputs": [
    {
     "name": "stdout",
     "output_type": "stream",
     "text": [
      "+------+---------+-----------+---------------+----------+-----------+-------+\n",
      "|userId|Thumbs Up|Thumbs Down|Add to Playlist|Add Friend|Roll Advert|ct_song|\n",
      "+------+---------+-----------+---------------+----------+-----------+-------+\n",
      "|100010|       17|          5|              7|         4|         52|    275|\n",
      "|200002|       21|          6|              8|         4|          7|    387|\n",
      "+------+---------+-----------+---------------+----------+-----------+-------+\n",
      "only showing top 2 rows\n",
      "\n"
     ]
    }
   ],
   "source": [
    "numerical_feature.show(2)"
   ]
  },
  {
   "cell_type": "markdown",
   "metadata": {},
   "source": [
    "# Modeling\n",
    "Split the full dataset into train, test, and validation sets. Test out several of the machine learning methods you learned. Evaluate the accuracy of the various models, tuning parameters as necessary. Determine your winning model based on test accuracy and report results on the validation set. Since the churned users are a fairly small subset, I suggest using F1 score as the metric to optimize."
   ]
  },
  {
   "cell_type": "markdown",
   "metadata": {},
   "source": [
    "## Prepare Dataset"
   ]
  },
  {
   "cell_type": "code",
   "execution_count": 29,
   "metadata": {},
   "outputs": [
    {
     "name": "stdout",
     "output_type": "stream",
     "text": [
      "+------+-----+---------+-----------+---------------+----------+-----------+-------+\n",
      "|userId|churn|Thumbs Up|Thumbs Down|Add to Playlist|Add Friend|Roll Advert|ct_song|\n",
      "+------+-----+---------+-----------+---------------+----------+-----------+-------+\n",
      "|100010|  0.0|     17.0|        5.0|            7.0|       4.0|       52.0|  275.0|\n",
      "|200002|  0.0|     21.0|        6.0|            8.0|       4.0|        7.0|  387.0|\n",
      "|   125|  1.0|      0.0|        0.0|            0.0|       0.0|        1.0|    8.0|\n",
      "|   124|  0.0|    171.0|       41.0|          118.0|      74.0|        4.0| 4079.0|\n",
      "|    51|  1.0|    100.0|       21.0|           52.0|      28.0|        0.0| 2111.0|\n",
      "|     7|  0.0|      7.0|        1.0|            5.0|       1.0|       16.0|  150.0|\n",
      "|    15|  0.0|     81.0|       14.0|           59.0|      31.0|        1.0| 1914.0|\n",
      "|    54|  1.0|    163.0|       29.0|           72.0|      33.0|       47.0| 2841.0|\n",
      "|   155|  0.0|     58.0|        3.0|           24.0|      11.0|        8.0|  820.0|\n",
      "|100014|  1.0|     17.0|        3.0|            7.0|       6.0|        2.0|  257.0|\n",
      "|   132|  0.0|     96.0|       17.0|           38.0|      41.0|        2.0| 1928.0|\n",
      "|   154|  0.0|     11.0|        0.0|            1.0|       3.0|       10.0|   84.0|\n",
      "|   101|  1.0|     86.0|       16.0|           61.0|      29.0|        8.0| 1797.0|\n",
      "|    11|  0.0|     40.0|        9.0|           20.0|       6.0|       39.0|  647.0|\n",
      "|   138|  0.0|     95.0|       24.0|           67.0|      41.0|       17.0| 2070.0|\n",
      "|300017|  0.0|    303.0|       28.0|          113.0|      63.0|       11.0| 3632.0|\n",
      "|100021|  1.0|     11.0|        5.0|            7.0|       7.0|       30.0|  230.0|\n",
      "|    29|  1.0|    154.0|       22.0|           89.0|      47.0|       22.0| 3028.0|\n",
      "|    69|  0.0|     72.0|        9.0|           33.0|      12.0|        3.0| 1125.0|\n",
      "|   112|  0.0|      9.0|        3.0|            7.0|       7.0|       21.0|  215.0|\n",
      "+------+-----+---------+-----------+---------------+----------+-----------+-------+\n",
      "only showing top 20 rows\n",
      "\n"
     ]
    }
   ],
   "source": [
    "df_use = df_indicate.dropDuplicates(['userId']).sort('userId').select(['userId','churn'])\n",
    "df_use = df_use.join(numerical_feature,'userId')\n",
    "#fill NaN\n",
    "df_use = df_use.na.fill(0)\n",
    "for metric in df_use.columns[1:]:\n",
    "    df_use = df_use.withColumn(metric,df_use[metric].cast('float'))\n",
    "df_use.show()"
   ]
  },
  {
   "cell_type": "code",
   "execution_count": 30,
   "metadata": {},
   "outputs": [],
   "source": [
    "#backup final dataset\n",
    "#df_use.write.save('df_use.json',format='json',header=True)"
   ]
  },
  {
   "cell_type": "markdown",
   "metadata": {},
   "source": [
    "Check the Unbalance issue"
   ]
  },
  {
   "cell_type": "code",
   "execution_count": 31,
   "metadata": {},
   "outputs": [
    {
     "name": "stdout",
     "output_type": "stream",
     "text": [
      "+-----+-----+\n",
      "|churn|count|\n",
      "+-----+-----+\n",
      "|  1.0|   52|\n",
      "|  0.0|  173|\n",
      "+-----+-----+\n",
      "\n"
     ]
    }
   ],
   "source": [
    "df_use.groupby(\"churn\").count().show()"
   ]
  },
  {
   "cell_type": "markdown",
   "metadata": {},
   "source": [
    "## Split train & test"
   ]
  },
  {
   "cell_type": "code",
   "execution_count": 32,
   "metadata": {},
   "outputs": [],
   "source": [
    "assembler = VectorAssembler(inputCols=df_use.columns[2:],outputCol='featuresassemble')\n",
    "temp = assembler.transform(df_use)\n",
    "\n",
    "scaler = StandardScaler(inputCol=\"featuresassemble\", outputCol=\"features_scaled\", withStd=True)\n",
    "scaler_fit = scaler.fit(temp)\n",
    "\n",
    "result_scaled = scaler_fit.transform(temp)\n",
    "\n",
    "df_final_use = result_scaled.select(result_scaled.churn.alias('label'), result_scaled.features_scaled.alias('features'))\n"
   ]
  },
  {
   "cell_type": "code",
   "execution_count": 33,
   "metadata": {},
   "outputs": [],
   "source": [
    "train, test = df_final_use.randomSplit([0.8, 0.2], seed=42)"
   ]
  },
  {
   "cell_type": "code",
   "execution_count": 34,
   "metadata": {},
   "outputs": [
    {
     "data": {
      "text/plain": [
       "Row(label=0.0, features=DenseVector([0.2596, 0.3823, 0.214, 0.1943, 2.413, 0.2489]))"
      ]
     },
     "execution_count": 34,
     "metadata": {},
     "output_type": "execute_result"
    }
   ],
   "source": [
    "df_final_use.head()"
   ]
  },
  {
   "cell_type": "markdown",
   "metadata": {},
   "source": [
    "## Models chosen to be tested"
   ]
  },
  {
   "cell_type": "markdown",
   "metadata": {},
   "source": [
    "Logistic Regression, Decision Tree, Random Forest Classifier"
   ]
  },
  {
   "cell_type": "markdown",
   "metadata": {},
   "source": [
    "## Baseline of Models"
   ]
  },
  {
   "cell_type": "code",
   "execution_count": 35,
   "metadata": {},
   "outputs": [],
   "source": [
    "# Initialize 3 models baseline\n",
    "classifier_LR = LogisticRegression(maxIter=50)\n",
    "classifier_DT = DecisionTreeClassifier(seed=7)\n",
    "classifier_RF = RandomForestClassifier(seed=7)"
   ]
  },
  {
   "cell_type": "code",
   "execution_count": 36,
   "metadata": {},
   "outputs": [],
   "source": [
    "# set up the evaluator\n",
    "evaluator= MulticlassClassificationEvaluator(predictionCol=\"prediction\")"
   ]
  },
  {
   "cell_type": "code",
   "execution_count": 37,
   "metadata": {},
   "outputs": [
    {
     "name": "stdout",
     "output_type": "stream",
     "text": [
      "LogisticRegression is training...\n",
      "LogisticRegression is predicting...\n",
      "LogisticRegression is evaluating...\n",
      "Test F1-score:  0.5841784989858012\n",
      "DecisionTreeClassifier is training...\n",
      "DecisionTreeClassifier is predicting...\n",
      "DecisionTreeClassifier is evaluating...\n",
      "Test F1-score:  0.6808720691073633\n",
      "RandomForestClassifier is training...\n",
      "RandomForestClassifier is predicting...\n",
      "RandomForestClassifier is evaluating...\n",
      "Test F1-score:  0.5841784989858012\n"
     ]
    }
   ],
   "source": [
    "# train and loop through results of the 3\n",
    "all_results = {}\n",
    "for classifier in [classifier_LR, classifier_DT, classifier_RF]:\n",
    "    model_result = {}\n",
    "    # get the classifier name\n",
    "    classifier_name = classifier.__class__.__name__\n",
    "    \n",
    "    \n",
    "    # fit the dataset\n",
    "    print(f'{classifier_name} is training...')\n",
    "    start = time.time() \n",
    "    model = classifier.fit(train)\n",
    "    end = time.time() \n",
    "    model_result['train_time'] = round(end-start,6)\n",
    "    \n",
    "    # predict\n",
    "    print(f'{classifier_name} is predicting...')\n",
    "    start = time.time() \n",
    "    pred_test = model.transform(test)\n",
    "    end = time.time()\n",
    "    model_result['pred_time'] = round(end-start,6)\n",
    "    \n",
    "    #metrics\n",
    "    print(f'{classifier_name} is evaluating...')    \n",
    "    model_result['f1_test'] = evaluator.evaluate(pred_test.select('label','prediction'),{evaluator.metricName: 'f1'})\n",
    "    print('Test F1-score: ',model_result['f1_test'])\n",
    "    all_results[classifier_name] = model_result\n",
    "    \n",
    "all_results_df = pd.DataFrame(all_results)\n",
    "all_results_df.to_csv('baseline.csv')"
   ]
  },
  {
   "cell_type": "code",
   "execution_count": 39,
   "metadata": {},
   "outputs": [
    {
     "data": {
      "text/html": [
       "<div>\n",
       "<style scoped>\n",
       "    .dataframe tbody tr th:only-of-type {\n",
       "        vertical-align: middle;\n",
       "    }\n",
       "\n",
       "    .dataframe tbody tr th {\n",
       "        vertical-align: top;\n",
       "    }\n",
       "\n",
       "    .dataframe thead th {\n",
       "        text-align: right;\n",
       "    }\n",
       "</style>\n",
       "<table border=\"1\" class=\"dataframe\">\n",
       "  <thead>\n",
       "    <tr style=\"text-align: right;\">\n",
       "      <th></th>\n",
       "      <th>LogisticRegression</th>\n",
       "      <th>DecisionTreeClassifier</th>\n",
       "      <th>RandomForestClassifier</th>\n",
       "    </tr>\n",
       "  </thead>\n",
       "  <tbody>\n",
       "    <tr>\n",
       "      <th>f1_test</th>\n",
       "      <td>0.584178</td>\n",
       "      <td>0.680872</td>\n",
       "      <td>0.584178</td>\n",
       "    </tr>\n",
       "    <tr>\n",
       "      <th>pred_time</th>\n",
       "      <td>0.090935</td>\n",
       "      <td>0.107016</td>\n",
       "      <td>0.119382</td>\n",
       "    </tr>\n",
       "    <tr>\n",
       "      <th>train_time</th>\n",
       "      <td>188.624084</td>\n",
       "      <td>186.098581</td>\n",
       "      <td>215.523401</td>\n",
       "    </tr>\n",
       "  </tbody>\n",
       "</table>\n",
       "</div>"
      ],
      "text/plain": [
       "            LogisticRegression  DecisionTreeClassifier  RandomForestClassifier\n",
       "f1_test               0.584178                0.680872                0.584178\n",
       "pred_time             0.090935                0.107016                0.119382\n",
       "train_time          188.624084              186.098581              215.523401"
      ]
     },
     "execution_count": 39,
     "metadata": {},
     "output_type": "execute_result"
    }
   ],
   "source": [
    "all_results_df"
   ]
  },
  {
   "cell_type": "markdown",
   "metadata": {},
   "source": [
    "LogisticRegression and RandomForeset Models F1 are about the same, while Logistic Regression Model saved more time.  And DecisionTree Model had the best F1 score.  Therefore, I will tune Logistic Regression Model and the DecisionTree Model below."
   ]
  },
  {
   "cell_type": "markdown",
   "metadata": {},
   "source": [
    "## Build Search-grid pipeline for tuning"
   ]
  },
  {
   "cell_type": "markdown",
   "metadata": {},
   "source": [
    "### Logistic Regression"
   ]
  },
  {
   "cell_type": "code",
   "execution_count": 40,
   "metadata": {},
   "outputs": [
    {
     "name": "stdout",
     "output_type": "stream",
     "text": [
      "Logistic Regression Model tuning spent 3304.3561532497406s.\n"
     ]
    }
   ],
   "source": [
    "paramGrid_lr = ParamGridBuilder().\\\n",
    "            addGrid(classifier_LR.elasticNetParam,[0.1, 0.5, 1]).\\\n",
    "            addGrid(classifier_LR.regParam,[0.001, 0.05, 0.1]).\\\n",
    "            build()\n",
    "\n",
    "crossval_lr = CrossValidator(estimator=classifier_LR,\n",
    "                          estimatorParamMaps=paramGrid_lr,\n",
    "                          evaluator=MulticlassClassificationEvaluator(metricName=\"f1\"),\n",
    "                          numFolds=3)\n",
    "\n",
    "start = time.time()\n",
    "cv_LR = crossval_lr.fit(train)\n",
    "end = time.time()\n",
    "print(f'Logistic Regression Model tuning spent {end-start}s.')\n",
    "\n",
    "cv_LR.save('LR_model')"
   ]
  },
  {
   "cell_type": "code",
   "execution_count": 41,
   "metadata": {},
   "outputs": [
    {
     "name": "stdout",
     "output_type": "stream",
     "text": [
      "Logistic Regression Model Accuracy: 0.7058823529411765\n",
      "Logistic Regression Model F-1 Score:0.5841784989858012\n"
     ]
    }
   ],
   "source": [
    "pred_lr = cv_LR.transform(test)\n",
    "\n",
    "print('Logistic Regression Model Accuracy: {}'.format(evaluator.evaluate(pred_lr.select('label','prediction'), {evaluator.metricName: \"accuracy\"})))\n",
    "print('Logistic Regression Model F-1 Score:{}'.format(evaluator.evaluate(pred_lr.select('label','prediction'), {evaluator.metricName: \"f1\"})))"
   ]
  },
  {
   "cell_type": "markdown",
   "metadata": {},
   "source": [
    "The accuracy looks good, though the time spent is longer than expected."
   ]
  },
  {
   "cell_type": "markdown",
   "metadata": {},
   "source": [
    "### Decision Tree"
   ]
  },
  {
   "cell_type": "code",
   "execution_count": 42,
   "metadata": {},
   "outputs": [
    {
     "name": "stdout",
     "output_type": "stream",
     "text": [
      "Decision Tree Model tuning spent 1257.4217891693115s.\n"
     ]
    }
   ],
   "source": [
    "# Define the parameter grid\n",
    "paramGrid_dt = ParamGridBuilder() \\\n",
    "    .addGrid(classifier_DT.maxDepth, [5, 10, 15]) \\\n",
    "    .addGrid(classifier_DT.impurity, ['gini', 'entropy']) \\\n",
    "    .build()\n",
    "\n",
    "# Define the cross-validator\n",
    "crossval_dt = CrossValidator(estimator=classifier_DT,\n",
    "                             estimatorParamMaps=paramGrid_dt,\n",
    "                             evaluator=MulticlassClassificationEvaluator(metricName=\"f1\"),\n",
    "                             numFolds=3)\n",
    "\n",
    "# Perform the model tuning\n",
    "start = time.time()\n",
    "cv_DT = crossval_dt.fit(train)\n",
    "end = time.time()\n",
    "print(f'Decision Tree Model tuning spent {end-start}s.')\n",
    "\n",
    "# Save the tuned model\n",
    "cv_DT.save('DT_model')"
   ]
  },
  {
   "cell_type": "code",
   "execution_count": 43,
   "metadata": {},
   "outputs": [
    {
     "name": "stdout",
     "output_type": "stream",
     "text": [
      "Decision Tree Model Accuracy: 0.7647058823529411\n",
      "Decision Tree Model F-1 Score:0.7030812324929971\n"
     ]
    }
   ],
   "source": [
    "pred_dt = cv_DT.transform(test)\n",
    "\n",
    "print('Decision Tree Model Accuracy: {}'.format(evaluator.evaluate(pred_dt.select('label','prediction'), {evaluator.metricName: \"accuracy\"})))\n",
    "print('Decision Tree Model F-1 Score:{}'.format(evaluator.evaluate(pred_dt.select('label','prediction'), {evaluator.metricName: \"f1\"})))"
   ]
  },
  {
   "cell_type": "markdown",
   "metadata": {},
   "source": [
    "Decision Tree model has a better accuracy with a much less time spent.  This is the model we need."
   ]
  },
  {
   "cell_type": "markdown",
   "metadata": {},
   "source": [
    "## Conclusion"
   ]
  },
  {
   "cell_type": "markdown",
   "metadata": {},
   "source": [
    "As demonstrated above, the Decision Tree Model has the best accuracy results and the least time spent.  It is the model we will use."
   ]
  },
  {
   "cell_type": "markdown",
   "metadata": {},
   "source": [
    "# Final Steps\n",
    "Clean up your code, adding comments and renaming variables to make the code easier to read and maintain. Refer to the Spark Project Overview page and Data Scientist Capstone Project Rubric to make sure you are including all components of the capstone project and meet all expectations. Remember, this includes thorough documentation in a README file in a Github repository, as well as a web app or blog post."
   ]
  },
  {
   "cell_type": "code",
   "execution_count": null,
   "metadata": {},
   "outputs": [],
   "source": []
  }
 ],
 "metadata": {
  "kernelspec": {
   "display_name": "Python 3",
   "language": "python",
   "name": "python3"
  },
  "language_info": {
   "codemirror_mode": {
    "name": "ipython",
    "version": 3
   },
   "file_extension": ".py",
   "mimetype": "text/x-python",
   "name": "python",
   "nbconvert_exporter": "python",
   "pygments_lexer": "ipython3",
   "version": "3.6.3"
  }
 },
 "nbformat": 4,
 "nbformat_minor": 2
}
